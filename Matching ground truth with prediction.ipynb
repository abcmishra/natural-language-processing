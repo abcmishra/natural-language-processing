{
 "cells": [
  {
   "cell_type": "code",
   "execution_count": 21,
   "metadata": {},
   "outputs": [],
   "source": [
    "import pandas as pd\n",
    "df=pd.read_csv(\"result3.csv\")"
   ]
  },
  {
   "cell_type": "code",
   "execution_count": 22,
   "metadata": {},
   "outputs": [],
   "source": [
    "df[\"GT_MCAT\"]= df[\"GT_MCAT\"].str.lower()"
   ]
  },
  {
   "cell_type": "code",
   "execution_count": 23,
   "metadata": {},
   "outputs": [
    {
     "data": {
      "text/html": [
       "<div>\n",
       "<style scoped>\n",
       "    .dataframe tbody tr th:only-of-type {\n",
       "        vertical-align: middle;\n",
       "    }\n",
       "\n",
       "    .dataframe tbody tr th {\n",
       "        vertical-align: top;\n",
       "    }\n",
       "\n",
       "    .dataframe thead th {\n",
       "        text-align: right;\n",
       "    }\n",
       "</style>\n",
       "<table border=\"1\" class=\"dataframe\">\n",
       "  <thead>\n",
       "    <tr style=\"text-align: right;\">\n",
       "      <th></th>\n",
       "      <th>user_search</th>\n",
       "      <th>GT_MCAT</th>\n",
       "      <th>prediction</th>\n",
       "      <th>result</th>\n",
       "    </tr>\n",
       "  </thead>\n",
       "  <tbody>\n",
       "    <tr>\n",
       "      <th>0</th>\n",
       "      <td>mens sports t shirt</td>\n",
       "      <td>mens sports t-shirt</td>\n",
       "      <td>mens sports t shirt</td>\n",
       "      <td>['ladies', 'sports', 'socks']</td>\n",
       "    </tr>\n",
       "    <tr>\n",
       "      <th>1</th>\n",
       "      <td>mens hooded sweatshirt</td>\n",
       "      <td>man hoodies</td>\n",
       "      <td>mens hooded sweatshirts</td>\n",
       "      <td>['coal', 'fired', 'burners']</td>\n",
       "    </tr>\n",
       "    <tr>\n",
       "      <th>2</th>\n",
       "      <td>Candle Stand</td>\n",
       "      <td>candle stands</td>\n",
       "      <td>candle stands</td>\n",
       "      <td>['candle', 'stands']</td>\n",
       "    </tr>\n",
       "    <tr>\n",
       "      <th>3</th>\n",
       "      <td>polthin pecking bags colars</td>\n",
       "      <td>polythene bags</td>\n",
       "      <td>polyter bags</td>\n",
       "      <td>['gladstone', 'bags']</td>\n",
       "    </tr>\n",
       "    <tr>\n",
       "      <th>4</th>\n",
       "      <td>nt cutter d-1000</td>\n",
       "      <td>cable cutters</td>\n",
       "      <td>cutting machine</td>\n",
       "      <td>['daqin', 'cutting', 'machine']</td>\n",
       "    </tr>\n",
       "    <tr>\n",
       "      <th>5</th>\n",
       "      <td>muscletech nitrotech</td>\n",
       "      <td>weight gain nutrition</td>\n",
       "      <td>pharmaceutical medicines</td>\n",
       "      <td>['pharmaceutical', 'medicines']</td>\n",
       "    </tr>\n",
       "    <tr>\n",
       "      <th>6</th>\n",
       "      <td>kalaghar</td>\n",
       "      <td>mobile software</td>\n",
       "      <td>cattle face services</td>\n",
       "      <td>['loading', 'unloading', 'services']</td>\n",
       "    </tr>\n",
       "    <tr>\n",
       "      <th>7</th>\n",
       "      <td>teak wood beading</td>\n",
       "      <td>wooden beading</td>\n",
       "      <td>wooden beading</td>\n",
       "      <td>['wooden', 'beading']</td>\n",
       "    </tr>\n",
       "    <tr>\n",
       "      <th>8</th>\n",
       "      <td>orgnaiser</td>\n",
       "      <td>car accessories</td>\n",
       "      <td>organine machine</td>\n",
       "      <td>['breadcrumb', 'machine']</td>\n",
       "    </tr>\n",
       "    <tr>\n",
       "      <th>9</th>\n",
       "      <td>barcode printers</td>\n",
       "      <td>barcode printers</td>\n",
       "      <td>barcode printers</td>\n",
       "      <td>['datalogic', 'barcode', 'scanner']</td>\n",
       "    </tr>\n",
       "  </tbody>\n",
       "</table>\n",
       "</div>"
      ],
      "text/plain": [
       "                   user_search                GT_MCAT  \\\n",
       "0          mens sports t shirt    mens sports t-shirt   \n",
       "1       mens hooded sweatshirt            man hoodies   \n",
       "2                 Candle Stand          candle stands   \n",
       "3  polthin pecking bags colars         polythene bags   \n",
       "4             nt cutter d-1000          cable cutters   \n",
       "5         muscletech nitrotech  weight gain nutrition   \n",
       "6                     kalaghar        mobile software   \n",
       "7            teak wood beading         wooden beading   \n",
       "8                    orgnaiser        car accessories   \n",
       "9             barcode printers       barcode printers   \n",
       "\n",
       "                 prediction                                result  \n",
       "0       mens sports t shirt         ['ladies', 'sports', 'socks']  \n",
       "1   mens hooded sweatshirts          ['coal', 'fired', 'burners']  \n",
       "2             candle stands                  ['candle', 'stands']  \n",
       "3              polyter bags                 ['gladstone', 'bags']  \n",
       "4           cutting machine       ['daqin', 'cutting', 'machine']  \n",
       "5  pharmaceutical medicines       ['pharmaceutical', 'medicines']  \n",
       "6      cattle face services  ['loading', 'unloading', 'services']  \n",
       "7            wooden beading                 ['wooden', 'beading']  \n",
       "8          organine machine             ['breadcrumb', 'machine']  \n",
       "9          barcode printers   ['datalogic', 'barcode', 'scanner']  "
      ]
     },
     "execution_count": 23,
     "metadata": {},
     "output_type": "execute_result"
    }
   ],
   "source": [
    "df.head(10)"
   ]
  },
  {
   "cell_type": "code",
   "execution_count": 24,
   "metadata": {},
   "outputs": [],
   "source": [
    "df['count'] = df.apply(lambda x: 1 if x.GT_MCAT in x.prediction else 0, axis = 1)"
   ]
  },
  {
   "cell_type": "code",
   "execution_count": 27,
   "metadata": {},
   "outputs": [
    {
     "data": {
      "text/html": [
       "<div>\n",
       "<style scoped>\n",
       "    .dataframe tbody tr th:only-of-type {\n",
       "        vertical-align: middle;\n",
       "    }\n",
       "\n",
       "    .dataframe tbody tr th {\n",
       "        vertical-align: top;\n",
       "    }\n",
       "\n",
       "    .dataframe thead th {\n",
       "        text-align: right;\n",
       "    }\n",
       "</style>\n",
       "<table border=\"1\" class=\"dataframe\">\n",
       "  <thead>\n",
       "    <tr style=\"text-align: right;\">\n",
       "      <th></th>\n",
       "      <th>user_search</th>\n",
       "      <th>GT_MCAT</th>\n",
       "      <th>prediction</th>\n",
       "      <th>result</th>\n",
       "      <th>count</th>\n",
       "    </tr>\n",
       "  </thead>\n",
       "  <tbody>\n",
       "    <tr>\n",
       "      <th>0</th>\n",
       "      <td>mens sports t shirt</td>\n",
       "      <td>mens sports t-shirt</td>\n",
       "      <td>mens sports t shirt</td>\n",
       "      <td>['ladies', 'sports', 'socks']</td>\n",
       "      <td>0</td>\n",
       "    </tr>\n",
       "    <tr>\n",
       "      <th>1</th>\n",
       "      <td>mens hooded sweatshirt</td>\n",
       "      <td>man hoodies</td>\n",
       "      <td>mens hooded sweatshirts</td>\n",
       "      <td>['coal', 'fired', 'burners']</td>\n",
       "      <td>0</td>\n",
       "    </tr>\n",
       "    <tr>\n",
       "      <th>2</th>\n",
       "      <td>Candle Stand</td>\n",
       "      <td>candle stands</td>\n",
       "      <td>candle stands</td>\n",
       "      <td>['candle', 'stands']</td>\n",
       "      <td>1</td>\n",
       "    </tr>\n",
       "    <tr>\n",
       "      <th>3</th>\n",
       "      <td>polthin pecking bags colars</td>\n",
       "      <td>polythene bags</td>\n",
       "      <td>polyter bags</td>\n",
       "      <td>['gladstone', 'bags']</td>\n",
       "      <td>0</td>\n",
       "    </tr>\n",
       "    <tr>\n",
       "      <th>4</th>\n",
       "      <td>nt cutter d-1000</td>\n",
       "      <td>cable cutters</td>\n",
       "      <td>cutting machine</td>\n",
       "      <td>['daqin', 'cutting', 'machine']</td>\n",
       "      <td>0</td>\n",
       "    </tr>\n",
       "  </tbody>\n",
       "</table>\n",
       "</div>"
      ],
      "text/plain": [
       "                   user_search              GT_MCAT               prediction  \\\n",
       "0          mens sports t shirt  mens sports t-shirt      mens sports t shirt   \n",
       "1       mens hooded sweatshirt          man hoodies  mens hooded sweatshirts   \n",
       "2                 Candle Stand        candle stands            candle stands   \n",
       "3  polthin pecking bags colars       polythene bags             polyter bags   \n",
       "4             nt cutter d-1000        cable cutters          cutting machine   \n",
       "\n",
       "                            result  count  \n",
       "0    ['ladies', 'sports', 'socks']      0  \n",
       "1     ['coal', 'fired', 'burners']      0  \n",
       "2             ['candle', 'stands']      1  \n",
       "3            ['gladstone', 'bags']      0  \n",
       "4  ['daqin', 'cutting', 'machine']      0  "
      ]
     },
     "execution_count": 27,
     "metadata": {},
     "output_type": "execute_result"
    }
   ],
   "source": [
    "df.head(5)"
   ]
  },
  {
   "cell_type": "code",
   "execution_count": 25,
   "metadata": {},
   "outputs": [
    {
     "data": {
      "text/plain": [
       "0    11733\n",
       "1     8267\n",
       "Name: count, dtype: int64"
      ]
     },
     "execution_count": 25,
     "metadata": {},
     "output_type": "execute_result"
    }
   ],
   "source": [
    "df['count'].value_counts()"
   ]
  },
  {
   "cell_type": "code",
   "execution_count": 26,
   "metadata": {},
   "outputs": [
    {
     "data": {
      "text/plain": [
       "0.41335"
      ]
     },
     "execution_count": 26,
     "metadata": {},
     "output_type": "execute_result"
    }
   ],
   "source": [
    "8267/20000"
   ]
  },
  {
   "cell_type": "code",
   "execution_count": null,
   "metadata": {},
   "outputs": [],
   "source": []
  }
 ],
 "metadata": {
  "kernelspec": {
   "display_name": "Python 3",
   "language": "python",
   "name": "python3"
  },
  "language_info": {
   "codemirror_mode": {
    "name": "ipython",
    "version": 3
   },
   "file_extension": ".py",
   "mimetype": "text/x-python",
   "name": "python",
   "nbconvert_exporter": "python",
   "pygments_lexer": "ipython3",
   "version": "3.6.8"
  }
 },
 "nbformat": 4,
 "nbformat_minor": 2
}
